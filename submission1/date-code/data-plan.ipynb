{
 "cells": [
  {
   "cell_type": "code",
   "execution_count": null,
   "metadata": {},
   "outputs": [],
   "source": [
    "import pandas as pd"
   ]
  },
  {
   "cell_type": "code",
   "execution_count": null,
   "metadata": {},
   "outputs": [],
   "source": [
    "#create contract.info <- contract.info %>%\n",
    "#group_by(contractid,planid)%>%\n",
    "#mutate(id_count=row_number())%>%\n",
    "\n",
    "#enrollments per plan \n",
    "#enroll.info <- read_csv\n",
    "\n",
    "#merge contract.info and enroll.info\n",
    "#plan.data <-contract.info %>%\n",
    "#left_join(enroll.info, by=c(\"contractid\",\"planid\"))%>%\n",
    "#mutate(year=2015)%>%\n",
    "\n",
    "#group_by(state,county)%>%\n",
    "#fill(flips) %>% #reflect what county u are in given state \n",
    "#groupby(contractid,planid)%>%\n",
    "#fill(plan_type, partd, snp.eghp,plan_name)%>%\n",
    "#group_by(contractid)%>%\n",
    "#fill(org_type,org_name,org_marketing_name,parent_org)\n",
    "\n",
    "\n"
   ]
  }
 ],
 "metadata": {
  "kernelspec": {
   "display_name": "base",
   "language": "python",
   "name": "python3"
  },
  "language_info": {
   "name": "python",
   "version": "3.11.4"
  }
 },
 "nbformat": 4,
 "nbformat_minor": 2
}
