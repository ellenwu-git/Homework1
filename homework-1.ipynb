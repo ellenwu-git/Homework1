{
 "cells": [
  {
   "cell_type": "markdown",
   "metadata": {},
   "source": [
    "### ECON 470 Homework 1\n",
    "#### Author: Ellen Wu"
   ]
  },
  {
   "cell_type": "code",
   "execution_count": 1,
   "metadata": {},
   "outputs": [],
   "source": [
    "# Importing the libraries\n",
    "import pandas as pd\n",
    "from IPython.display import Markdown, display\n",
    "import warnings\n",
    "warnings.simplefilter('ignore')\n",
    "\n",
    "# To run in the terminal:\n",
    "# python submission1/data-code/_BuildFinalData.py\n",
    "\n",
    "# Read output datasets\n",
    "full_ma_data = pd.read_csv('/Users/ellenwu/econ470/Homework1/data/output/full_ma_data.csv', encoding='latin1')\n",
    "contract_service_area = pd.read_csv('/Users/ellenwu/econ470/Homework1/data/output/contract_service_area.csv', encoding='latin1')"
   ]
  },
  {
   "cell_type": "markdown",
   "metadata": {},
   "source": [
    "\\newpage"
   ]
  },
  {
   "cell_type": "markdown",
   "metadata": {},
   "source": [
    "1. Provide a table of the count of plans under each plan type."
   ]
  },
  {
   "cell_type": "code",
   "execution_count": 2,
   "metadata": {},
   "outputs": [
    {
     "data": {
      "text/markdown": [
       "| Plan Type                               |   2015 |\n",
       "|:----------------------------------------|-------:|\n",
       "| Local PPO                               | 179663 |\n",
       "| HMO/HMOPOS                              |  94328 |\n",
       "| Employer/Union Only Direct Contract PDP |  25630 |\n",
       "| Medicare-Medicaid Plan HMO/HMOPOS       |   1062 |\n",
       "| 1876 Cost                               |   1019 |\n",
       "| National PACE                           |    201 |\n",
       "| MSA                                     |     77 |\n",
       "| PFFS                                    |     16 |"
      ],
      "text/plain": [
       "<IPython.core.display.Markdown object>"
      ]
     },
     "metadata": {},
     "output_type": "display_data"
    }
   ],
   "source": [
    "# Pivot table to get the number of plans per type and year\n",
    "plans_per_type = full_ma_data.pivot_table(index='plan_type', columns='year', values='planid', aggfunc='count')\n",
    "# Change the name of the index\n",
    "plans_per_type.index.name = 'Plan Type'\n",
    "# Sort values\n",
    "plans_per_type = plans_per_type.sort_values(by=2015, ascending=False)\n",
    "# Display the table\n",
    "display(Markdown(plans_per_type.to_markdown()))"
   ]
  },
  {
   "cell_type": "markdown",
   "metadata": {},
   "source": [
    "\\newpage"
   ]
  },
  {
   "cell_type": "markdown",
   "metadata": {},
   "source": [
    "2. Remove all special needs plans (SNP), employer group plans (eghp), and all \"800-series\" plans."
   ]
  },
  {
   "cell_type": "code",
   "execution_count": 3,
   "metadata": {},
   "outputs": [
    {
     "data": {
      "text/markdown": [
       "| Plan Type                         |   2015 |\n",
       "|:----------------------------------|-------:|\n",
       "| HMO/HMOPOS                        |  11659 |\n",
       "| Local PPO                         |   1828 |\n",
       "| Medicare-Medicaid Plan HMO/HMOPOS |   1062 |\n",
       "| 1876 Cost                         |    944 |\n",
       "| National PACE                     |    201 |\n",
       "| MSA                               |     77 |\n",
       "| PFFS                              |     16 |"
      ],
      "text/plain": [
       "<IPython.core.display.Markdown object>"
      ]
     },
     "metadata": {},
     "output_type": "display_data"
    }
   ],
   "source": [
    "# Exluce SNP and EGHP plans, and plans between 800 and 899\n",
    "final_ma_data = full_ma_data[(full_ma_data['snp'] == \"No\") & (full_ma_data['eghp'] == \"No\") & ((full_ma_data['planid'] < 800) | (full_ma_data['planid'] >= 900))]\n",
    "plans_per_type = final_ma_data.pivot_table(index='plan_type', columns='year', values='planid', aggfunc='count')\n",
    "# Change the name of the index\n",
    "plans_per_type.index.name = 'Plan Type'\n",
    "# Sort values\n",
    "plans_per_type = plans_per_type.sort_values(by=2015, ascending=False)\n",
    "# Display the table\n",
    "display(Markdown(plans_per_type.to_markdown()))"
   ]
  },
  {
   "cell_type": "markdown",
   "metadata": {},
   "source": [
    "\\newpage"
   ]
  },
  {
   "cell_type": "markdown",
   "metadata": {},
   "source": [
    "3. Provide a table of the average enrollments for each plan type in 2015."
   ]
  },
  {
   "cell_type": "code",
   "execution_count": 4,
   "metadata": {},
   "outputs": [
    {
     "data": {
      "text/markdown": [
       "| Plan Type                         |   Count |   Avg Enrollment |\n",
       "|:----------------------------------|--------:|-----------------:|\n",
       "| HMO/HMOPOS                        |   11659 |              220 |\n",
       "| Local PPO                         |    1828 |              140 |\n",
       "| Medicare-Medicaid Plan HMO/HMOPOS |    1062 |               73 |\n",
       "| 1876 Cost                         |     944 |               21 |\n",
       "| National PACE                     |     201 |               26 |\n",
       "| MSA                               |      77 |                8 |\n",
       "| PFFS                              |      16 |               21 |"
      ],
      "text/plain": [
       "<IPython.core.display.Markdown object>"
      ]
     },
     "metadata": {},
     "output_type": "display_data"
    }
   ],
   "source": [
    "# Assuming final_ma_data is already defined and contains the necessary data\n",
    "# Replace missing values in 'avg_enrollment' with 0 or an appropriate value\n",
    "final_ma_data['avg_enrollment'] = final_ma_data['avg_enrollment'].fillna(0)\n",
    "\n",
    "# Pivot table to get the average enrollment per plan type and year\n",
    "enrollment_per_type = final_ma_data.groupby('plan_type')['avg_enrollment'].agg(['count', 'mean'])\n",
    "\n",
    "# Change the name of the index and columns\n",
    "enrollment_per_type.index.name = 'Plan Type'\n",
    "enrollment_per_type.columns = ['Count', 'Avg Enrollment']\n",
    "\n",
    "# Sort values and format\n",
    "enrollment_per_type = enrollment_per_type.round(0).sort_values(by='Count', ascending=False)\n",
    "\n",
    "# Display the table\n",
    "display(Markdown(enrollment_per_type.to_markdown()))"
   ]
  },
  {
   "cell_type": "code",
   "execution_count": 5,
   "metadata": {},
   "outputs": [],
   "source": [
    "# jupyter nbconvert --to pdf --no-input --output wu-e-hwk1-1.pdf \"Homework 1.ipynb\""
   ]
  }
 ],
 "metadata": {
  "kernelspec": {
   "display_name": "base",
   "language": "python",
   "name": "python3"
  },
  "language_info": {
   "codemirror_mode": {
    "name": "ipython",
    "version": 3
   },
   "file_extension": ".py",
   "mimetype": "text/x-python",
   "name": "python",
   "nbconvert_exporter": "python",
   "pygments_lexer": "ipython3",
   "version": "3.11.4"
  }
 },
 "nbformat": 4,
 "nbformat_minor": 2
}
